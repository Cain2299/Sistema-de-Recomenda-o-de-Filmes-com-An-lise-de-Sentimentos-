{
 "cells": [
  {
   "cell_type": "code",
   "execution_count": 1,
   "id": "c5df3f4d",
   "metadata": {},
   "outputs": [],
   "source": [
    "import pandas as pd\n",
    "import numpy as np\n",
    "import zipfile\n",
    "import os\n",
    "import urllib.request"
   ]
  },
  {
   "cell_type": "code",
   "execution_count": 2,
   "id": "4cce8b89",
   "metadata": {},
   "outputs": [
    {
     "name": "stdout",
     "output_type": "stream",
     "text": [
      "Baixando MovieLens 100K...\n",
      "Download concluído!\n",
      "Dataset salvo em: ml-100k.zip\n"
     ]
    }
   ],
   "source": [
    "url = \"http://files.grouplens.org/datasets/movielens/ml-100k.zip\"\n",
    "zip_path = \"ml-100k.zip\"\n",
    "\n",
    "if not os.path.exists(zip_path):\n",
    "    print(\"Baixando MovieLens 100K...\")\n",
    "    urllib.request.urlretrieve(url, zip_path)\n",
    "    print(\"Download concluído!\")\n",
    "else:\n",
    "    print(\"Arquivo já existe. Pulando download.\")\n",
    "\n",
    "print(\"Dataset salvo em:\", zip_path)"
   ]
  },
  {
   "cell_type": "code",
   "execution_count": null,
   "id": "0952d458",
   "metadata": {},
   "outputs": [],
   "source": [
    "folder = \"ml-100k\"\n",
    "\n",
    "if not os.path.exists(folder):\n",
    "    with zipfile.ZipFile(zip_path, 'r') as zip_ref:\n",
    "        zip_ref.extractall(\".\")\n",
    "        print(\"Arquivos extraídos com sucesso!\")\n",
    "else:\n",
    "    print(\"Arquivos já extraídos.\")\n",
    "\n",
    "print(\"Conteúdo da pasta:\", os.listdir(folder)[:10])"
   ]
  },
  {
   "cell_type": "code",
   "execution_count": null,
   "id": "2d8b63d2",
   "metadata": {},
   "outputs": [],
   "source": [
    "ratings_cols = ['user_id', 'item_id', 'rating', 'timestamp']\n",
    "ratings = pd.read_csv(\"ml-100k/u.data\", sep=\"\\t\", names=ratings_cols)\n",
    "\n",
    "print(\"Formato de ratings:\", ratings.shape)\n",
    "print(\"Primeiras linhas:\")\n",
    "print(ratings.head())"
   ]
  },
  {
   "cell_type": "code",
   "execution_count": null,
   "id": "5f587922",
   "metadata": {},
   "outputs": [],
   "source": [
    "movies_cols = ['item_id', 'title', 'release_date', 'video_release_date', \n",
    "               'IMDb_URL', 'unknown', 'Action', 'Adventure', 'Animation', \n",
    "               'Children', 'Comedy', 'Crime', 'Documentary', 'Drama', 'Fantasy', \n",
    "               'Film-Noir', 'Horror', 'Musical', 'Mystery', 'Romance', 'Sci-Fi', \n",
    "               'Thriller', 'War', 'Western']\n",
    "\n",
    "movies = pd.read_csv(\"ml-100k/u.item\", sep=\"|\", names=movies_cols, encoding='latin-1')\n",
    "\n",
    "print(\"Formato de filmes:\", movies.shape)\n",
    "print(\"Primeiras linhas:\")\n",
    "print(movies.head())"
   ]
  },
  {
   "cell_type": "code",
   "execution_count": null,
   "id": "39c70360",
   "metadata": {},
   "outputs": [],
   "source": [
    "df = pd.merge(ratings, movies, on=\"item_id\")\n",
    "\n",
    "print(\"Formato do DataFrame final:\", df.shape)\n",
    "print(\"Primeiras linhas:\")\n",
    "print(df.head())"
   ]
  },
  {
   "cell_type": "code",
   "execution_count": null,
   "id": "e26345fe",
   "metadata": {},
   "outputs": [],
   "source": [
    "user_item_matrix = df.pivot_table(index=\"user_id\", columns=\"title\", values=\"rating\")\n",
    "\n",
    "print(\"Matriz Usuário-Item construída!\")\n",
    "print(\"Dimensões:\", user_item_matrix.shape)  # Esperado: ~943 usuários × 1682 filmes\n",
    "print(user_item_matrix.head())"
   ]
  }
 ],
 "metadata": {
  "kernelspec": {
   "display_name": "myvenv",
   "language": "python",
   "name": "python3"
  },
  "language_info": {
   "codemirror_mode": {
    "name": "ipython",
    "version": 3
   },
   "file_extension": ".py",
   "mimetype": "text/x-python",
   "name": "python",
   "nbconvert_exporter": "python",
   "pygments_lexer": "ipython3",
   "version": "3.13.5"
  }
 },
 "nbformat": 4,
 "nbformat_minor": 5
}
